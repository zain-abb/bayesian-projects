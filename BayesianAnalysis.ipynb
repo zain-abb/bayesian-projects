{
 "cells": [
  {
   "cell_type": "markdown",
   "metadata": {},
   "source": [
    "# Bayesian Analysis\n",
    "\n",
    "\n",
    "\n",
    "\n",
    "## Car accident\n",
    "\n",
    "In a city, 95% of cabs are owned by the DC Cab Company (yellow), and 5% are owned by ECO Cab (green). Recently a cab was involved in a hit-and-run accident, injuring a pedestrian. A witness saw the accident and claimed that the cab that hit the pedestrian was a ECO cab. Tests by investigators reveal that, under similar circumstances, this witness is correctly able to identify a ECO cab 90% of the time, and correctly identify a Yellow cab 85% of the time; this means she incorrectly calls a DC cab a ECO cab 15% of the time and incorrectly calls a ECO cab a DC cab 10% of the time.\n",
    "\n",
    "Should investigators pursue ECO Cab, Inc.?\n",
    "\n",
    "In general, **Bayes' Theorem** states\n",
    "\n",
    "$$P(H|D) = \\frac{P(D|H)P(H)}{P(D|H)P(H) + P(D|\\text{ not }H) P(\\text{not }H)} = \\frac{P(D|H)P(H)}{P(D)}$$\n",
    "\n",
    "Bayesian statisticians often emphasize the importance of the numerator by saying $P(H|D)$ is proportional to $P(D|H) P(H)$, or\n",
    "\n",
    "$$P(H|D) \\propto P(D|H) P(H)$$\n",
    "\n",
    "The denominator is needed only to make the right-hand side a proper probability.\n",
    "\n",
    "Let $H$ represent the event that a ECO cab hit the pedestrian, and $D$ the event that the witness claims to see a ECO cab. Let's compute the probability that, given the witness's testimony, the pedestrian was actually hit by a ECO cab."
   ]
  },
  {
   "cell_type": "code",
   "execution_count": 1,
   "metadata": {},
   "outputs": [
    {
     "data": {
      "text/plain": [
       "0.05"
      ]
     },
     "execution_count": 1,
     "metadata": {},
     "output_type": "execute_result"
    }
   ],
   "source": [
    "d_h = 0.9     # P(D|H): The probability the witness claims to see a ECO cab when a ECO cab hit the pedestrian\n",
    "h = 0.05      # P(H): The probability the cab was ECO, based on the proportion of ECO cabs on the streets\n",
    "d_nh = 0.1    # P(D|not H): The probability the witness claims to see a ECO cab when a DC cab hit the pedestrian\n",
    "nh = 0.95     # P(not H): The probability the cab was DC\n",
    "\n",
    "h"
   ]
  },
  {
   "cell_type": "markdown",
   "metadata": {},
   "source": [
    "At the outset the probaility the cab was ECO is low given how few ECO cabs there are on the streets. How does the witness's testimony change this?"
   ]
  },
  {
   "cell_type": "code",
   "execution_count": 2,
   "metadata": {},
   "outputs": [
    {
     "data": {
      "text/plain": [
       "0.32142857142857145"
      ]
     },
     "execution_count": 2,
     "metadata": {},
     "output_type": "execute_result"
    }
   ],
   "source": [
    "h_d = (d_h * h)/(d_h * h + d_nh * nh)    # Bayes theorem\n",
    "h_d"
   ]
  },
  {
   "cell_type": "markdown",
   "metadata": {},
   "source": [
    "While the cab was a ECO cab has increase, it's still less than 50%; the DC Cab Company is more likely to employ the driver involved in the hit-and-run! (The witness is not accurate enough to overcome how few ECO cabs there are on the streets.)"
   ]
  }
 ],
 "metadata": {
  "kernelspec": {
   "display_name": "Python 3",
   "language": "python",
   "name": "python3"
  },
  "language_info": {
   "codemirror_mode": {
    "name": "ipython",
    "version": 3
   },
   "file_extension": ".py",
   "mimetype": "text/x-python",
   "name": "python",
   "nbconvert_exporter": "python",
   "pygments_lexer": "ipython3",
   "version": "3.6.3"
  }
 },
 "nbformat": 4,
 "nbformat_minor": 2
}
